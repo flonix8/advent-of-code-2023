{
 "cells": [
  {
   "cell_type": "code",
   "execution_count": 12,
   "metadata": {},
   "outputs": [],
   "source": [
    "import os\n",
    "import sys\n",
    "from typing import Callable\n",
    "\n",
    "this_module = sys.modules[__name__]\n",
    "\n",
    "def get_input() -> list[str]:\n",
    "    return get_lines_from_file('./input')\n",
    "\n",
    "def get_test_input(idx) -> list[str]:\n",
    "    if os.path.isfile(f'./test_input{idx}'):\n",
    "        return get_lines_from_file(f'./test_input{idx}')\n",
    "    else:\n",
    "        return get_lines_from_file('./test_input')\n",
    "    \n",
    "def get_test_result(idx) -> int:\n",
    "    return get_int_from_file(f'./test_result{idx}')\n",
    "\n",
    "def get_solution_func(idx) -> Callable:\n",
    "    return getattr(this_module, f'solution{idx}')\n",
    "\n",
    "def get_lines_from_file(filepath) -> list[str]:\n",
    "    with open(filepath) as f:\n",
    "        return [line.strip('\\n') for line in f.readlines()]\n",
    "\n",
    "def get_str_from_file(filepath) -> str:\n",
    "    with open(filepath) as f:\n",
    "        return f.readline().strip('\\n')\n",
    "\n",
    "def get_int_from_file(filepath) -> int:\n",
    "    with open(filepath) as f:\n",
    "        return int(f.readline().strip())\n",
    "\n",
    "def log_invocation(func):\n",
    "    def logged_func(*args):\n",
    "        res = func(*args)\n",
    "        print(f'{func.__name__}({args}) -> {res}')\n",
    "        return res\n",
    "    return logged_func\n",
    "    \n",
    "def run_test(idx: int) -> bool:\n",
    "    res = get_solution_func(idx)(get_test_input(idx))\n",
    "    test_res = get_test_result(idx)\n",
    "    \n",
    "    if test_res == res:\n",
    "        print(f'Your solution for part {idx} works!!! :) (on the test input, that is)')\n",
    "        print(f'Let`s try it on the actual input now...')\n",
    "        return True\n",
    "    else:\n",
    "        print(f'Your solution for part {idx} does not work yet. Keep going!')\n",
    "        print(f'You`ve got {res}, but the correct test result is {test_res}')\n",
    "        return False\n",
    "\n",
    "def run_solution(idx: int):\n",
    "    sol = get_solution_func(idx)(get_input())\n",
    "    print(f'The solution for part {idx} is: {sol}')\n",
    "\n",
    "def run():\n",
    "    if run_test(1):\n",
    "        run_solution(1)\n",
    "        print('\\nOn to part 2...\\n')\n",
    "        if run_test(2):\n",
    "            run_solution(2)"
   ]
  },
  {
   "cell_type": "code",
   "execution_count": 14,
   "metadata": {},
   "outputs": [
    {
     "name": "stdout",
     "output_type": "stream",
     "text": [
      "Your solution for part 1 does not work yet. Keep going!\n",
      "You`ve got 0, but the correct test result is -1\n"
     ]
    }
   ],
   "source": [
    "def solution1(input: list[str]) -> int:\n",
    "    # Your code goes here...\n",
    "    return 0\n",
    "\n",
    "def solution2(input: list[str]) -> int:\n",
    "    # Your code goes here...\n",
    "    return 0\n",
    "\n",
    "run()"
   ]
  }
 ],
 "metadata": {
  "kernelspec": {
   "display_name": "Python 3.10.6 ('.venv': venv)",
   "language": "python",
   "name": "python3"
  },
  "language_info": {
   "codemirror_mode": {
    "name": "ipython",
    "version": 3
   },
   "file_extension": ".py",
   "mimetype": "text/x-python",
   "name": "python",
   "nbconvert_exporter": "python",
   "pygments_lexer": "ipython3",
   "version": "3.10.12"
  },
  "orig_nbformat": 4,
  "vscode": {
   "interpreter": {
    "hash": "09e8dbe911bf21f3c386d4d2edf688b1ba07bf689a7c55b370a524f1797d9d36"
   }
  }
 },
 "nbformat": 4,
 "nbformat_minor": 2
}
