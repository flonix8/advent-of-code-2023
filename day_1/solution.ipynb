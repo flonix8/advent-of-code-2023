{
 "cells": [
  {
   "cell_type": "code",
   "execution_count": 3,
   "metadata": {},
   "outputs": [],
   "source": [
    "def get_input() -> list[str]:\n",
    "    return get_lines_from_file('./input')\n",
    "\n",
    "def get_test_input() -> list[str]:\n",
    "    return get_lines_from_file('./test_input')\n",
    "\n",
    "def get_lines_from_file(filepath) -> list[str]:\n",
    "    with open(filepath) as f:\n",
    "        return [line.strip('\\n') for line in f.readlines()]\n",
    "\n",
    "def get_str_from_file(filepath) -> str:\n",
    "    with open(filepath) as f:\n",
    "        return f.readline().strip('\\n')\n",
    "\n",
    "def get_int_from_file(filepath) -> int:\n",
    "    with open(filepath) as f:\n",
    "        return int(f.readline().strip())\n",
    "\n",
    "def log_invocation(func):\n",
    "    def logged_func(*args):\n",
    "        res = func(*args)\n",
    "        print(f'{func.__name__}({args}) -> {res}')\n",
    "        return res\n",
    "    return logged_func"
   ]
  },
  {
   "cell_type": "code",
   "execution_count": 12,
   "metadata": {},
   "outputs": [],
   "source": [
    "NUMBERS = {\n",
    "    'one': 1,\n",
    "    'two': 2,\n",
    "    'three': 3,\n",
    "    'four': 4,\n",
    "    'five': 5,\n",
    "    'six' : 6,\n",
    "    'seven': 7,\n",
    "    'eight': 8,\n",
    "    'nine': 9\n",
    "}\n",
    "\n",
    "def get_next_number(s: str) -> int:\n",
    "    if s[0].isdigit():\n",
    "        return int(s[0])\n",
    "    else:\n",
    "        for num_str in NUMBERS.keys():\n",
    "            if s.startswith(num_str):\n",
    "                return NUMBERS[num_str]\n",
    "    return None\n",
    "\n",
    "def solution1(input: list[str]) -> int:\n",
    "    calibration_values = []\n",
    "    for line in input:\n",
    "        digits = list(filter(lambda i: i.isdigit(), line))\n",
    "        calibration_values.append(int(digits[0] + digits[-1]))\n",
    "    return sum(calibration_values)\n",
    "\n",
    "def solution2(input: list[str]) -> int:\n",
    "    calibration_values = []\n",
    "    for line in input:\n",
    "        numbers = []\n",
    "        for i in range(len(line)):\n",
    "            number = get_next_number(line[i:])\n",
    "            if number is not None:\n",
    "                numbers.append(number)\n",
    "        calibration_values.append(int(str(numbers[0]) + str(numbers[-1])))\n",
    "    return sum(calibration_values)\n"
   ]
  },
  {
   "cell_type": "code",
   "execution_count": 16,
   "metadata": {},
   "outputs": [
    {
     "name": "stdout",
     "output_type": "stream",
     "text": [
      "The solution for part 2 is: 53894\n",
      "Your solution for part 1 works!!! :) (on the test input, that is)\n",
      "Let`s try it on the actual input now...\n",
      "The solution for part 1 is: 53651\n",
      "\n",
      "On to part 2...\n",
      "\n",
      "Your solution for part 2 does not work yet. Keep going!\n",
      "You`ve got 142, but the correct test result is 281\n"
     ]
    }
   ],
   "source": [
    "solutions = [\n",
    "    solution1,\n",
    "    solution2,\n",
    "]\n",
    "\n",
    "test_results = [\n",
    "    get_int_from_file('./test_result1'),\n",
    "    get_int_from_file('./test_result2'),\n",
    "]\n",
    "\n",
    "def run_test(idx) -> bool:\n",
    "    res = solutions[idx-1](get_test_input())\n",
    "    test_res = test_results[idx-1]\n",
    "    \n",
    "    if test_res == res:\n",
    "        print(f'Your solution for part {idx} works!!! :) (on the test input, that is)')\n",
    "        print(f'Let`s try it on the actual input now...')\n",
    "        return True\n",
    "    else:\n",
    "        print(f'Your solution for part {idx} does not work yet. Keep going!')\n",
    "        print(f'You`ve got {res}, but the correct test result is {test_res}')\n",
    "        return False\n",
    "\n",
    "def run_solution(idx):\n",
    "    sol = solutions[idx-1](get_input())\n",
    "    print(f'The solution for part {idx} is: {sol}')\n",
    "\n",
    "\n",
    "if run_test(1):\n",
    "    run_solution(1)\n",
    "    print('\\nOn to part 2...\\n')\n",
    "    if run_test(2):\n",
    "        run_solution(2)\n",
    "\n",
    "run_solution(2)"
   ]
  }
 ],
 "metadata": {
  "kernelspec": {
   "display_name": "Python 3.10.6 ('.venv': venv)",
   "language": "python",
   "name": "python3"
  },
  "language_info": {
   "codemirror_mode": {
    "name": "ipython",
    "version": 3
   },
   "file_extension": ".py",
   "mimetype": "text/x-python",
   "name": "python",
   "nbconvert_exporter": "python",
   "pygments_lexer": "ipython3",
   "version": "3.10.12"
  },
  "orig_nbformat": 4,
  "vscode": {
   "interpreter": {
    "hash": "09e8dbe911bf21f3c386d4d2edf688b1ba07bf689a7c55b370a524f1797d9d36"
   }
  }
 },
 "nbformat": 4,
 "nbformat_minor": 2
}
